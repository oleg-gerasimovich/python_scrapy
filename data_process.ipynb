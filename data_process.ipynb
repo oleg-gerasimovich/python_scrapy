{
 "cells": [
  {
   "cell_type": "code",
   "execution_count": 1,
   "id": "6bd1eb0f",
   "metadata": {},
   "outputs": [],
   "source": [
    "import json\n",
    "\n",
    "import pandas as pd"
   ]
  },
  {
   "cell_type": "code",
   "execution_count": 2,
   "id": "f0b9e39c",
   "metadata": {},
   "outputs": [],
   "source": [
    "with open('stocks.json', 'r') as f:\n",
    "    stocks_data = json.load(f)"
   ]
  },
  {
   "cell_type": "code",
   "execution_count": 3,
   "id": "368062e7",
   "metadata": {},
   "outputs": [],
   "source": [
    "all_keys = [\n",
    "    'Полное наименование эмитента',\n",
    "    'Cокращенное наименование эмитента',\n",
    "    'Код эмитента',\n",
    "    'УНП',\n",
    "    'Ликвидирован (да/нет)',\n",
    "    'Акции',\n",
    "    'Облигации',\n",
    "    'Депозитарий эмитента',\n",
    "    'Уставный фонд (рубли)',\n",
    "    'Место нахождения',\n",
    "    'Телефон',\n",
    "    'Форма собственности',\n",
    "    'Регион'\n",
    "]"
   ]
  },
  {
   "cell_type": "code",
   "execution_count": 4,
   "id": "1f1379bf",
   "metadata": {},
   "outputs": [],
   "source": [
    "necessary_keys = [\n",
    "    'Полное наименование эмитента',\n",
    "    'Cокращенное наименование эмитента',\n",
    "    'Код эмитента',\n",
    "    'УНП',\n",
    "    'Место нахождения',\n",
    "    'Телефон',\n",
    "    'Депозитарий эмитента',\n",
    "    'Уставный фонд (рубли)',\n",
    "    'Статус эмитента',\n",
    "    'Акции',\n",
    "    'Облигации'\n",
    "]"
   ]
  },
  {
   "cell_type": "code",
   "execution_count": 5,
   "id": "e006a7c7",
   "metadata": {},
   "outputs": [],
   "source": [
    "valid_data = []\n",
    "\n",
    "for dictionaty in stocks_data:\n",
    "    valid_dict={}\n",
    "    for key in dictionaty.keys():\n",
    "        if key in necessary_keys:\n",
    "            valid_dict[key] = dictionaty[key]\n",
    "        \n",
    "    valid_data.append(valid_dict)"
   ]
  },
  {
   "cell_type": "code",
   "execution_count": 6,
   "id": "e9f5134d",
   "metadata": {},
   "outputs": [],
   "source": [
    "df = pd.DataFrame(valid_data)"
   ]
  },
  {
   "cell_type": "code",
   "execution_count": 7,
   "id": "3f20b816",
   "metadata": {},
   "outputs": [],
   "source": [
    "ownership = ['ЗАО', 'ОАО']\n",
    "type_of_ownership = [element[-3:] \n",
    "                     if element[-3:] in ownership else 'Прочее' \n",
    "                     for element in df['Cокращенное наименование эмитента']]\n",
    "\n",
    "df['Форма собственности'] = type_of_ownership"
   ]
  },
  {
   "cell_type": "code",
   "execution_count": 8,
   "id": "8eab05a6",
   "metadata": {},
   "outputs": [],
   "source": [
    "df['Ликвидирован (да/нет)'] = ['да' if element == 'Ликвидирован' else 'нет' for element in df['Статус эмитента']]"
   ]
  },
  {
   "cell_type": "code",
   "execution_count": 9,
   "id": "a9b0dd3c",
   "metadata": {},
   "outputs": [],
   "source": [
    "df.drop(columns=['Статус эмитента'], inplace=True)"
   ]
  },
  {
   "cell_type": "code",
   "execution_count": 10,
   "id": "804338cc",
   "metadata": {},
   "outputs": [],
   "source": [
    "regions = []\n",
    "\n",
    "for row in df['Место нахождения']:\n",
    "    try:\n",
    "        address = row.split(', ')\n",
    "        if address[0].isnumeric():\n",
    "            regions.append(address[1])\n",
    "        else:\n",
    "            regions.append(address[0])\n",
    "    except IndexError:\n",
    "        regions.append(address[0])\n",
    "\n",
    "df['Регион'] = regions"
   ]
  },
  {
   "cell_type": "code",
   "execution_count": 11,
   "id": "6a7b373d",
   "metadata": {},
   "outputs": [],
   "source": [
    "df = df[all_keys]"
   ]
  },
  {
   "cell_type": "code",
   "execution_count": 12,
   "id": "d22996bc",
   "metadata": {},
   "outputs": [],
   "source": [
    "telephone = ['нет' if element == None else element for element in df['Телефон']]\n",
    "df['Телефон'] = telephone"
   ]
  },
  {
   "cell_type": "code",
   "execution_count": 13,
   "id": "9650993b",
   "metadata": {},
   "outputs": [],
   "source": [
    "df.to_excel('ценные бумаги.xlsx', sheet_name='Бумаги', index=False)"
   ]
  }
 ],
 "metadata": {
  "kernelspec": {
   "display_name": "Python 3 (ipykernel)",
   "language": "python",
   "name": "python3"
  },
  "language_info": {
   "codemirror_mode": {
    "name": "ipython",
    "version": 3
   },
   "file_extension": ".py",
   "mimetype": "text/x-python",
   "name": "python",
   "nbconvert_exporter": "python",
   "pygments_lexer": "ipython3",
   "version": "3.9.6"
  }
 },
 "nbformat": 4,
 "nbformat_minor": 5
}
